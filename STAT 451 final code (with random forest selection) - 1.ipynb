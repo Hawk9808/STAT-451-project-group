{
 "cells": [
  {
   "cell_type": "code",
   "execution_count": 1,
   "id": "f2cf4c96",
   "metadata": {},
   "outputs": [
    {
     "name": "stdout",
     "output_type": "stream",
     "text": [
      "Author: Shihao Yang, Yifan Zhang, Kexiao Zhu\n",
      "\n",
      "Last updated: 2021-12-06\n",
      "\n",
      "Python implementation: CPython\n",
      "Python version       : 3.8.8\n",
      "IPython version      : 7.22.0\n",
      "\n",
      "numpy     : 1.20.1\n",
      "scipy     : 1.6.2\n",
      "matplotlib: 3.3.4\n",
      "sklearn   : 0.24.1\n",
      "\n"
     ]
    }
   ],
   "source": [
    "%load_ext watermark\n",
    "%watermark  -d -u -a \"Shihao Yang, Yifan Zhang, Kexiao Zhu\" -v -p numpy,scipy,matplotlib,sklearn"
   ]
  },
  {
   "cell_type": "code",
   "execution_count": 2,
   "id": "c5392f4b",
   "metadata": {},
   "outputs": [],
   "source": [
    "import numpy as np\n",
    "import pandas as pd"
   ]
  },
  {
   "cell_type": "code",
   "execution_count": 3,
   "id": "239336f1",
   "metadata": {},
   "outputs": [
    {
     "name": "stdout",
     "output_type": "stream",
     "text": [
      "    type  fixed acidity  volatile acidity  citric acid  residual sugar  \\\n",
      "0  white            7.0              0.27         0.36            20.7   \n",
      "1  white            6.3              0.30         0.34             1.6   \n",
      "2  white            8.1              0.28         0.40             6.9   \n",
      "3  white            7.2              0.23         0.32             8.5   \n",
      "4  white            7.2              0.23         0.32             8.5   \n",
      "\n",
      "   chlorides  free sulfur dioxide  total sulfur dioxide  density    pH  \\\n",
      "0      0.045                 45.0                 170.0   1.0010  3.00   \n",
      "1      0.049                 14.0                 132.0   0.9940  3.30   \n",
      "2      0.050                 30.0                  97.0   0.9951  3.26   \n",
      "3      0.058                 47.0                 186.0   0.9956  3.19   \n",
      "4      0.058                 47.0                 186.0   0.9956  3.19   \n",
      "\n",
      "   sulphates  alcohol  quality  \n",
      "0       0.45      8.8        6  \n",
      "1       0.49      9.5        6  \n",
      "2       0.44     10.1        6  \n",
      "3       0.40      9.9        6  \n",
      "4       0.40      9.9        6  \n",
      "<class 'pandas.core.frame.DataFrame'>\n",
      "RangeIndex: 6497 entries, 0 to 6496\n",
      "Data columns (total 13 columns):\n",
      " #   Column                Non-Null Count  Dtype  \n",
      "---  ------                --------------  -----  \n",
      " 0   type                  6497 non-null   object \n",
      " 1   fixed acidity         6487 non-null   float64\n",
      " 2   volatile acidity      6489 non-null   float64\n",
      " 3   citric acid           6494 non-null   float64\n",
      " 4   residual sugar        6495 non-null   float64\n",
      " 5   chlorides             6495 non-null   float64\n",
      " 6   free sulfur dioxide   6497 non-null   float64\n",
      " 7   total sulfur dioxide  6497 non-null   float64\n",
      " 8   density               6497 non-null   float64\n",
      " 9   pH                    6488 non-null   float64\n",
      " 10  sulphates             6493 non-null   float64\n",
      " 11  alcohol               6497 non-null   float64\n",
      " 12  quality               6497 non-null   int64  \n",
      "dtypes: float64(11), int64(1), object(1)\n",
      "memory usage: 660.0+ KB\n",
      "None\n",
      "       fixed acidity  volatile acidity  citric acid  residual sugar  \\\n",
      "count    6487.000000       6489.000000  6494.000000     6495.000000   \n",
      "mean        7.216579          0.339691     0.318722        5.444326   \n",
      "std         1.296750          0.164649     0.145265        4.758125   \n",
      "min         3.800000          0.080000     0.000000        0.600000   \n",
      "25%         6.400000          0.230000     0.250000        1.800000   \n",
      "50%         7.000000          0.290000     0.310000        3.000000   \n",
      "75%         7.700000          0.400000     0.390000        8.100000   \n",
      "max        15.900000          1.580000     1.660000       65.800000   \n",
      "\n",
      "         chlorides  free sulfur dioxide  total sulfur dioxide      density  \\\n",
      "count  6495.000000          6497.000000           6497.000000  6497.000000   \n",
      "mean      0.056042            30.525319            115.744574     0.994697   \n",
      "std       0.035036            17.749400             56.521855     0.002999   \n",
      "min       0.009000             1.000000              6.000000     0.987110   \n",
      "25%       0.038000            17.000000             77.000000     0.992340   \n",
      "50%       0.047000            29.000000            118.000000     0.994890   \n",
      "75%       0.065000            41.000000            156.000000     0.996990   \n",
      "max       0.611000           289.000000            440.000000     1.038980   \n",
      "\n",
      "                pH    sulphates      alcohol      quality  \n",
      "count  6488.000000  6493.000000  6497.000000  6497.000000  \n",
      "mean      3.218395     0.531215    10.491801     5.818378  \n",
      "std       0.160748     0.148814     1.192712     0.873255  \n",
      "min       2.720000     0.220000     8.000000     3.000000  \n",
      "25%       3.110000     0.430000     9.500000     5.000000  \n",
      "50%       3.210000     0.510000    10.300000     6.000000  \n",
      "75%       3.320000     0.600000    11.300000     6.000000  \n",
      "max       4.010000     2.000000    14.900000     9.000000  \n"
     ]
    }
   ],
   "source": [
    "df = pd.read_csv(\"winequalityN.csv\")\n",
    "print(df.head())\n",
    "print(df.info())\n",
    "print(df.describe())"
   ]
  },
  {
   "cell_type": "code",
   "execution_count": null,
   "id": "eede6390",
   "metadata": {},
   "outputs": [],
   "source": []
  },
  {
   "cell_type": "code",
   "execution_count": 4,
   "id": "f2f5d949",
   "metadata": {},
   "outputs": [],
   "source": [
    "label_list = []\n",
    "labels_map = {\n",
    "    \"white\": 0,\n",
    "    \"red\": 1}\n",
    "for i in range(len(df)):\n",
    "    label_list.append(labels_map[df[\"type\"][i]])\n",
    "df[\"type\"] = label_list"
   ]
  },
  {
   "cell_type": "code",
   "execution_count": 5,
   "id": "f04d426f",
   "metadata": {},
   "outputs": [],
   "source": [
    "labels_map = {\n",
    "    10: 'high',\n",
    "    9: 'high',\n",
    "    8: 'high',\n",
    "    7: 'medium',\n",
    "    6: 'medium',\n",
    "    5: 'medium',\n",
    "    4: 'medium',\n",
    "    3: 'low',\n",
    "    2: 'low',\n",
    "    1: 'low'\n",
    "}"
   ]
  },
  {
   "cell_type": "code",
   "execution_count": 6,
   "id": "489893ce",
   "metadata": {},
   "outputs": [],
   "source": [
    "df['quality'] = df['quality'].map(labels_map)"
   ]
  },
  {
   "cell_type": "code",
   "execution_count": 7,
   "id": "3c91107c",
   "metadata": {},
   "outputs": [],
   "source": [
    "labels_map = {\n",
    "    \"low\": 0,\n",
    "    \"medium\": 1,\n",
    "    \"high\": 2\n",
    "}"
   ]
  },
  {
   "cell_type": "code",
   "execution_count": 8,
   "id": "f279f498",
   "metadata": {},
   "outputs": [],
   "source": [
    "label_list2 = []\n",
    "for i in range(len(df)):\n",
    "    label_list2.append(labels_map[df[\"quality\"][i]])\n",
    "df[\"label\"] = label_list2"
   ]
  },
  {
   "cell_type": "code",
   "execution_count": 9,
   "id": "602d4540",
   "metadata": {},
   "outputs": [
    {
     "data": {
      "text/html": [
       "<div>\n",
       "<style scoped>\n",
       "    .dataframe tbody tr th:only-of-type {\n",
       "        vertical-align: middle;\n",
       "    }\n",
       "\n",
       "    .dataframe tbody tr th {\n",
       "        vertical-align: top;\n",
       "    }\n",
       "\n",
       "    .dataframe thead th {\n",
       "        text-align: right;\n",
       "    }\n",
       "</style>\n",
       "<table border=\"1\" class=\"dataframe\">\n",
       "  <thead>\n",
       "    <tr style=\"text-align: right;\">\n",
       "      <th></th>\n",
       "      <th>type</th>\n",
       "      <th>fixed acidity</th>\n",
       "      <th>volatile acidity</th>\n",
       "      <th>citric acid</th>\n",
       "      <th>residual sugar</th>\n",
       "      <th>chlorides</th>\n",
       "      <th>free sulfur dioxide</th>\n",
       "      <th>total sulfur dioxide</th>\n",
       "      <th>density</th>\n",
       "      <th>pH</th>\n",
       "      <th>sulphates</th>\n",
       "      <th>alcohol</th>\n",
       "      <th>quality</th>\n",
       "      <th>label</th>\n",
       "    </tr>\n",
       "  </thead>\n",
       "  <tbody>\n",
       "    <tr>\n",
       "      <th>0</th>\n",
       "      <td>0</td>\n",
       "      <td>7.0</td>\n",
       "      <td>0.27</td>\n",
       "      <td>0.36</td>\n",
       "      <td>20.7</td>\n",
       "      <td>0.045</td>\n",
       "      <td>45.0</td>\n",
       "      <td>170.0</td>\n",
       "      <td>1.0010</td>\n",
       "      <td>3.00</td>\n",
       "      <td>0.45</td>\n",
       "      <td>8.8</td>\n",
       "      <td>medium</td>\n",
       "      <td>1</td>\n",
       "    </tr>\n",
       "    <tr>\n",
       "      <th>1</th>\n",
       "      <td>0</td>\n",
       "      <td>6.3</td>\n",
       "      <td>0.30</td>\n",
       "      <td>0.34</td>\n",
       "      <td>1.6</td>\n",
       "      <td>0.049</td>\n",
       "      <td>14.0</td>\n",
       "      <td>132.0</td>\n",
       "      <td>0.9940</td>\n",
       "      <td>3.30</td>\n",
       "      <td>0.49</td>\n",
       "      <td>9.5</td>\n",
       "      <td>medium</td>\n",
       "      <td>1</td>\n",
       "    </tr>\n",
       "    <tr>\n",
       "      <th>2</th>\n",
       "      <td>0</td>\n",
       "      <td>8.1</td>\n",
       "      <td>0.28</td>\n",
       "      <td>0.40</td>\n",
       "      <td>6.9</td>\n",
       "      <td>0.050</td>\n",
       "      <td>30.0</td>\n",
       "      <td>97.0</td>\n",
       "      <td>0.9951</td>\n",
       "      <td>3.26</td>\n",
       "      <td>0.44</td>\n",
       "      <td>10.1</td>\n",
       "      <td>medium</td>\n",
       "      <td>1</td>\n",
       "    </tr>\n",
       "    <tr>\n",
       "      <th>3</th>\n",
       "      <td>0</td>\n",
       "      <td>7.2</td>\n",
       "      <td>0.23</td>\n",
       "      <td>0.32</td>\n",
       "      <td>8.5</td>\n",
       "      <td>0.058</td>\n",
       "      <td>47.0</td>\n",
       "      <td>186.0</td>\n",
       "      <td>0.9956</td>\n",
       "      <td>3.19</td>\n",
       "      <td>0.40</td>\n",
       "      <td>9.9</td>\n",
       "      <td>medium</td>\n",
       "      <td>1</td>\n",
       "    </tr>\n",
       "    <tr>\n",
       "      <th>4</th>\n",
       "      <td>0</td>\n",
       "      <td>7.2</td>\n",
       "      <td>0.23</td>\n",
       "      <td>0.32</td>\n",
       "      <td>8.5</td>\n",
       "      <td>0.058</td>\n",
       "      <td>47.0</td>\n",
       "      <td>186.0</td>\n",
       "      <td>0.9956</td>\n",
       "      <td>3.19</td>\n",
       "      <td>0.40</td>\n",
       "      <td>9.9</td>\n",
       "      <td>medium</td>\n",
       "      <td>1</td>\n",
       "    </tr>\n",
       "  </tbody>\n",
       "</table>\n",
       "</div>"
      ],
      "text/plain": [
       "   type  fixed acidity  volatile acidity  citric acid  residual sugar  \\\n",
       "0     0            7.0              0.27         0.36            20.7   \n",
       "1     0            6.3              0.30         0.34             1.6   \n",
       "2     0            8.1              0.28         0.40             6.9   \n",
       "3     0            7.2              0.23         0.32             8.5   \n",
       "4     0            7.2              0.23         0.32             8.5   \n",
       "\n",
       "   chlorides  free sulfur dioxide  total sulfur dioxide  density    pH  \\\n",
       "0      0.045                 45.0                 170.0   1.0010  3.00   \n",
       "1      0.049                 14.0                 132.0   0.9940  3.30   \n",
       "2      0.050                 30.0                  97.0   0.9951  3.26   \n",
       "3      0.058                 47.0                 186.0   0.9956  3.19   \n",
       "4      0.058                 47.0                 186.0   0.9956  3.19   \n",
       "\n",
       "   sulphates  alcohol quality  label  \n",
       "0       0.45      8.8  medium      1  \n",
       "1       0.49      9.5  medium      1  \n",
       "2       0.44     10.1  medium      1  \n",
       "3       0.40      9.9  medium      1  \n",
       "4       0.40      9.9  medium      1  "
      ]
     },
     "execution_count": 9,
     "metadata": {},
     "output_type": "execute_result"
    }
   ],
   "source": [
    "df.head()"
   ]
  },
  {
   "cell_type": "code",
   "execution_count": 10,
   "id": "d0dcae11",
   "metadata": {},
   "outputs": [],
   "source": [
    "# imputer = SimpleImputer(missing_values=np.nan, strategy='mean')\n",
    "# data = df.values\n",
    "# data = imputer.fit_transform(df.values)\n",
    "# data\n",
    "df = df.dropna()\n",
    "\n",
    "X = df[['type','fixed acidity',\"volatile acidity\",\"citric acid\",\"residual sugar\",\"chlorides\",\"free sulfur dioxide\",\"total sulfur dioxide\",\"density\",\"pH\",\"sulphates\",\"alcohol\"]].values\n",
    "y = df['label'].values"
   ]
  },
  {
   "cell_type": "code",
   "execution_count": 11,
   "id": "6c5ffaed",
   "metadata": {},
   "outputs": [
    {
     "name": "stdout",
     "output_type": "stream",
     "text": [
      "X_train.shape: (4524, 12)\n",
      "y_train.shape: (4524,)\n",
      "X_test.shape: (1939, 12)\n",
      "y_test.shape: (1939,)\n"
     ]
    }
   ],
   "source": [
    "from sklearn import tree\n",
    "from sklearn import metrics\n",
    "from sklearn.model_selection import train_test_split\n",
    "\n",
    "\n",
    "X_train, X_test, y_train, y_test = train_test_split(\n",
    "    X, y, test_size=0.3, random_state=1, stratify=y)\n",
    "print('X_train.shape:', X_train.shape)\n",
    "print('y_train.shape:', y_train.shape)\n",
    "print('X_test.shape:', X_test.shape)\n",
    "print('y_test.shape:', y_test.shape)"
   ]
  },
  {
   "cell_type": "code",
   "execution_count": 12,
   "id": "ecd87fab",
   "metadata": {},
   "outputs": [],
   "source": [
    "from sklearn.linear_model import LinearRegression\n",
    "lr=LinearRegression()\n",
    "lr.fit(X_train,y_train)\n",
    "lr=lr.score(X_test,y_test)"
   ]
  },
  {
   "cell_type": "code",
   "execution_count": 13,
   "id": "12a13554",
   "metadata": {},
   "outputs": [],
   "source": [
    "from sklearn.svm import SVC\n",
    "svm=SVC()\n",
    "svm.fit(X_train,y_train)\n",
    "svm=svm.score(X_test,y_test)"
   ]
  },
  {
   "cell_type": "code",
   "execution_count": 14,
   "id": "2dc16a87",
   "metadata": {},
   "outputs": [],
   "source": [
    "from sklearn.ensemble import RandomForestClassifier\n",
    "rf=RandomForestClassifier(n_estimators=100)\n",
    "rf.fit(X_train,y_train)\n",
    "rf=rf.score(X_test,y_test)"
   ]
  },
  {
   "cell_type": "code",
   "execution_count": 15,
   "id": "1872639d",
   "metadata": {},
   "outputs": [],
   "source": [
    "from sklearn.neighbors import KNeighborsClassifier\n",
    "knn=KNeighborsClassifier(n_neighbors=5)\n",
    "knn.fit(X_train,y_train)\n",
    "knn=knn.score(X_test,y_test)"
   ]
  },
  {
   "cell_type": "code",
   "execution_count": 16,
   "id": "aa608668",
   "metadata": {},
   "outputs": [],
   "source": [
    "from sklearn.tree import DecisionTreeClassifier\n",
    "dt=DecisionTreeClassifier()\n",
    "dt.fit(X_train,y_train)\n",
    "dt=dt.score(X_test,y_test)"
   ]
  },
  {
   "cell_type": "code",
   "execution_count": 17,
   "id": "e5de7ef9",
   "metadata": {},
   "outputs": [],
   "source": [
    "from sklearn.naive_bayes import GaussianNB\n",
    "nb=GaussianNB()\n",
    "nb.fit(X_train,y_train)\n",
    "nb=nb.score(X_test,y_test)"
   ]
  },
  {
   "cell_type": "code",
   "execution_count": 18,
   "id": "2334d30a",
   "metadata": {},
   "outputs": [],
   "source": [
    "models = pd.DataFrame({\n",
    "    'Model': ['Linear Regression', 'KNN', 'SVM', \n",
    "              'Random Forest', 'Naive Bayes', 'Decision Tree'],\n",
    "    'Score': [lr,knn,svm,rf,nb,dt]})"
   ]
  },
  {
   "cell_type": "code",
   "execution_count": 19,
   "id": "14dbbd87",
   "metadata": {},
   "outputs": [
    {
     "data": {
      "text/html": [
       "<div>\n",
       "<style scoped>\n",
       "    .dataframe tbody tr th:only-of-type {\n",
       "        vertical-align: middle;\n",
       "    }\n",
       "\n",
       "    .dataframe tbody tr th {\n",
       "        vertical-align: top;\n",
       "    }\n",
       "\n",
       "    .dataframe thead th {\n",
       "        text-align: right;\n",
       "    }\n",
       "</style>\n",
       "<table border=\"1\" class=\"dataframe\">\n",
       "  <thead>\n",
       "    <tr style=\"text-align: right;\">\n",
       "      <th></th>\n",
       "      <th>Model</th>\n",
       "      <th>Score</th>\n",
       "    </tr>\n",
       "  </thead>\n",
       "  <tbody>\n",
       "    <tr>\n",
       "      <th>3</th>\n",
       "      <td>Random Forest</td>\n",
       "      <td>0.974214</td>\n",
       "    </tr>\n",
       "    <tr>\n",
       "      <th>1</th>\n",
       "      <td>KNN</td>\n",
       "      <td>0.966993</td>\n",
       "    </tr>\n",
       "    <tr>\n",
       "      <th>2</th>\n",
       "      <td>SVM</td>\n",
       "      <td>0.964930</td>\n",
       "    </tr>\n",
       "    <tr>\n",
       "      <th>5</th>\n",
       "      <td>Decision Tree</td>\n",
       "      <td>0.948943</td>\n",
       "    </tr>\n",
       "    <tr>\n",
       "      <th>4</th>\n",
       "      <td>Naive Bayes</td>\n",
       "      <td>0.861269</td>\n",
       "    </tr>\n",
       "    <tr>\n",
       "      <th>0</th>\n",
       "      <td>Linear Regression</td>\n",
       "      <td>0.030488</td>\n",
       "    </tr>\n",
       "  </tbody>\n",
       "</table>\n",
       "</div>"
      ],
      "text/plain": [
       "               Model     Score\n",
       "3      Random Forest  0.974214\n",
       "1                KNN  0.966993\n",
       "2                SVM  0.964930\n",
       "5      Decision Tree  0.948943\n",
       "4        Naive Bayes  0.861269\n",
       "0  Linear Regression  0.030488"
      ]
     },
     "execution_count": 19,
     "metadata": {},
     "output_type": "execute_result"
    }
   ],
   "source": [
    "models.sort_values(by='Score', ascending=False)"
   ]
  },
  {
   "cell_type": "code",
   "execution_count": 61,
   "id": "54049ee8",
   "metadata": {},
   "outputs": [
    {
     "data": {
      "text/plain": [
       "0.9736977823620423"
      ]
     },
     "execution_count": 61,
     "metadata": {},
     "output_type": "execute_result"
    }
   ],
   "source": [
    "from sklearn.ensemble import RandomForestClassifier\n",
    "rf=RandomForestClassifier(n_estimators=100)\n",
    "rf.fit(X_train,y_train)\n",
    "rf.score(X_test,y_test)"
   ]
  },
  {
   "cell_type": "code",
   "execution_count": 59,
   "id": "f4703c6a",
   "metadata": {},
   "outputs": [
    {
     "data": {
      "text/plain": [
       "array([False, False,  True, False,  True, False,  True,  True,  True,\n",
       "        True,  True,  True])"
      ]
     },
     "execution_count": 59,
     "metadata": {},
     "output_type": "execute_result"
    }
   ],
   "source": [
    "# feature selection of random forest algorithm\n",
    "# reference: https://towardsdatascience.com/feature-selection-using-random-forest-26d7b747597f\n",
    "from sklearn.feature_selection import SelectFromModel\n",
    "sel = SelectFromModel(RandomForestClassifier(n_estimators = 100))\n",
    "sel.fit(X_train, y_train)\n",
    "sel.get_support()"
   ]
  },
  {
   "cell_type": "code",
   "execution_count": 60,
   "id": "26d73105",
   "metadata": {},
   "outputs": [
    {
     "name": "stdout",
     "output_type": "stream",
     "text": [
      "['volatile acidity' 'residual sugar' 'free sulfur dioxide'\n",
      " 'total sulfur dioxide' 'density' 'pH' 'sulphates' 'alcohol']\n"
     ]
    }
   ],
   "source": [
    "vars = np.array(['type','fixed acidity',\"volatile acidity\",\"citric acid\",\"residual sugar\",\"chlorides\",\"free sulfur dioxide\",\"total sulfur dioxide\",\"density\",\"pH\",\"sulphates\",\"alcohol\"])\n",
    "selected_feat= vars[sel.get_support()]\n",
    "len(selected_feat)\n",
    "print(selected_feat)"
   ]
  },
  {
   "cell_type": "code",
   "execution_count": 64,
   "id": "bbbd16cf",
   "metadata": {},
   "outputs": [
    {
     "name": "stdout",
     "output_type": "stream",
     "text": [
      "type = 0.0025771619576925417\n",
      "fixed acidity = 0.0768235692115406\n",
      "volatile acidity = 0.09472241298866899\n",
      "citric acid = 0.07467314595942069\n",
      "residual sugar = 0.10183763960931877\n",
      "chlorides = 0.08193591753211016\n",
      "free sulfur dioxide = 0.10864430395079734\n",
      "total sulfur dioxide = 0.08414378028918328\n",
      "density = 0.09994173245733544\n",
      "pH = 0.0833079903656941\n",
      "sulphates = 0.09445914564213714\n",
      "alcohol = 0.0969332000361011\n"
     ]
    }
   ],
   "source": [
    "# validate the feature selection\n",
    "rf.fit(X_train, y_train)\n",
    "for name, importance in zip(vars, rf.feature_importances_):\n",
    "     print(name, \"=\", importance)"
   ]
  },
  {
   "cell_type": "code",
   "execution_count": 76,
   "id": "e9fae152",
   "metadata": {},
   "outputs": [
    {
     "data": {
      "image/png": "[encoded data removed]",
      "text/plain": [
       "<Figure size 432x288 with 1 Axes>"
      ]
     },
     "metadata": {
      "needs_background": "light"
     },
     "output_type": "display_data"
    }
   ],
   "source": [
    "# plot the feature importance\n",
    "from matplotlib import pyplot as plt\n",
    "importances = rf.feature_importances_\n",
    "indices = np.argsort(importances)\n",
    "plt.title('Feature Importances')\n",
    "plt.barh(range(len(indices)), importances[indices], color='b', align='center')\n",
    "plt.yticks(range(len(indices)), [vars[i] for i in indices])\n",
    "plt.xlabel('Relative Importance')\n",
    "plt.show()"
   ]
  },
  {
   "cell_type": "code",
   "execution_count": 81,
   "id": "c3c69e3d",
   "metadata": {},
   "outputs": [
    {
     "data": {
      "text/plain": [
       "<AxesSubplot:>"
      ]
     },
     "execution_count": 81,
     "metadata": {},
     "output_type": "execute_result"
    },
    {
     "data": {
      "image/png": "[encoded data removed]",
      "text/plain": [
       "<Figure size 432x288 with 1 Axes>"
      ]
     },
     "metadata": {
      "needs_background": "light"
     },
     "output_type": "display_data"
    }
   ],
   "source": [
    "# this is another way to plot(the same as the last one)\n",
    "feat_importances = pd.Series(rf.feature_importances_, index=vars)\n",
    "feat_importances.plot(kind='barh')"
   ]
  },
  {
   "cell_type": "code",
   "execution_count": null,
   "id": "15866c5c",
   "metadata": {},
   "outputs": [],
   "source": []
  }
 ],
 "metadata": {
  "kernelspec": {
   "display_name": "Python 3",
   "language": "python",
   "name": "python3"
  },
  "language_info": {
   "codemirror_mode": {
    "name": "ipython",
    "version": 3
   },
   "file_extension": ".py",
   "mimetype": "text/x-python",
   "name": "python",
   "nbconvert_exporter": "python",
   "pygments_lexer": "ipython3",
   "version": "3.8.8"
  }
 },
 "nbformat": 4,
 "nbformat_minor": 5
}
